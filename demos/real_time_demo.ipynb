{
 "cells": [
  {
   "cell_type": "code",
   "execution_count": 1,
   "metadata": {},
   "outputs": [],
   "source": [
    "import threading\n",
    "import math\n",
    "from queue import Queue\n",
    "import numpy as np\n",
    "import matplotlib.pyplot as plt\n",
    "import pyaudio as pa\n",
    "import wave\n",
    "from scipy import signal, fftpack\n",
    "from audioIO import decodePCM, load\n",
    "from visual import fft_bar_data, plotSpect, plotWav\n",
    "\n",
    "%matplotlib notebook"
   ]
  },
  {
   "cell_type": "code",
   "execution_count": 9,
   "metadata": {},
   "outputs": [
    {
     "name": "stderr",
     "output_type": "stream",
     "text": [
      "/Users/zhouhang/anaconda3/envs/deploy/lib/python3.5/site-packages/scipy/fftpack/basic.py:153: FutureWarning: Using a non-tuple sequence for multidimensional indexing is deprecated; use `arr[tuple(seq)]` instead of `arr[seq]`. In the future this will be interpreted as an array index, `arr[np.array(seq)]`, which will result either in an error or a different result.\n",
      "  x = x[index]\n"
     ]
    }
   ],
   "source": [
    "def consum(out_q, bar_no_idx):\n",
    "    bar_size = [10, 50, 100, 200, 250]\n",
    "    bar_number = bar_size[bar_no_idx]\n",
    "\n",
    "    freq_idx = np.r_[:bar_number]                                    \n",
    "    freq_magn = np.zeros(bar_number)\n",
    "    \n",
    "    fig,ax = plt.subplots(figsize=(8,8))\n",
    "    ax.set_autoscaley_on(False)\n",
    "    ax.set_ylim([0, 20])\n",
    "    while 1:\n",
    "        raw_data = out_q.get(timeout = 0.3)\n",
    "        \n",
    "        data_bar = fft_bar_data(decodePCM(raw_data), bar_number)\n",
    "        data_bar = data_bar\n",
    "        ax.cla()\n",
    "        ax.bar(freq_idx, data_bar, width=0.3)\n",
    "\n",
    "        fig.canvas.draw()\n",
    "        fig.canvas.flush_events()\n",
    "        \n",
    "def produce(in_q, filename):\n",
    "    CHUNK = 1024\n",
    "    wf = wave.open(filename, 'rb')\n",
    "    p = pa.PyAudio()\n",
    "    stream = p.open(format=p.get_format_from_width(wf.getsampwidth()),\n",
    "                    channels=wf.getnchannels(),\n",
    "                    rate=wf.getframerate(),\n",
    "                    output=True) \n",
    "\n",
    "    data = wf.readframes(CHUNK)\n",
    "\n",
    "    while data != b'':\n",
    "        stream.write(data)\n",
    "        data = wf.readframes(CHUNK)\n",
    "        in_q.put(data)\n",
    "        \n",
    "    stream.stop_stream()\n",
    "    stream.close()\n",
    "\n",
    "    p.terminate()\n",
    "    \n",
    "def realTime(filename):\n",
    "    q = Queue()\n",
    "    \n",
    "    t1 = threading.Thread(target=produce, args=(q, filename)) \n",
    "    t2 = threading.Thread(target=consum, args=(q, 0)) \n",
    "        \n",
    "    t1.start()\n",
    "    t2.start()\n",
    "    \n",
    "    t1.join()\n",
    "    t2.join()"
   ]
  },
  {
   "cell_type": "code",
   "execution_count": 12,
   "metadata": {},
   "outputs": [
    {
     "name": "stdout",
     "output_type": "stream",
     "text": [
      "plotting the real-time spectrum\n"
     ]
    },
    {
     "name": "stderr",
     "output_type": "stream",
     "text": [
      "/Users/zhouhang/anaconda3/envs/deploy/lib/python3.5/site-packages/scipy/fftpack/basic.py:153: FutureWarning: Using a non-tuple sequence for multidimensional indexing is deprecated; use `arr[tuple(seq)]` instead of `arr[seq]`. In the future this will be interpreted as an array index, `arr[np.array(seq)]`, which will result either in an error or a different result.\n",
      "  x = x[index]\n",
      "/Users/zhouhang/anaconda3/envs/deploy/lib/python3.5/site-packages/scipy/fftpack/basic.py:160: FutureWarning: Using a non-tuple sequence for multidimensional indexing is deprecated; use `arr[tuple(seq)]` instead of `arr[seq]`. In the future this will be interpreted as an array index, `arr[np.array(seq)]`, which will result either in an error or a different result.\n",
      "  z[index] = x\n",
      "Exception in thread Thread-15:\n",
      "Traceback (most recent call last):\n",
      "  File \"/Users/zhouhang/anaconda3/envs/deploy/lib/python3.5/threading.py\", line 914, in _bootstrap_inner\n",
      "    self.run()\n",
      "  File \"/Users/zhouhang/anaconda3/envs/deploy/lib/python3.5/threading.py\", line 862, in run\n",
      "    self._target(*self._args, **self._kwargs)\n",
      "  File \"<ipython-input-9-3ce352506e93>\", line 12, in consum\n",
      "    raw_data = out_q.get(timeout = 0.3)\n",
      "  File \"/Users/zhouhang/anaconda3/envs/deploy/lib/python3.5/queue.py\", line 172, in get\n",
      "    raise Empty\n",
      "queue.Empty\n",
      "\n",
      "Exception in thread Thread-17:\n",
      "Traceback (most recent call last):\n",
      "  File \"/Users/zhouhang/anaconda3/envs/deploy/lib/python3.5/threading.py\", line 914, in _bootstrap_inner\n",
      "    self.run()\n",
      "  File \"/Users/zhouhang/anaconda3/envs/deploy/lib/python3.5/threading.py\", line 862, in run\n",
      "    self._target(*self._args, **self._kwargs)\n",
      "  File \"<ipython-input-9-3ce352506e93>\", line 12, in consum\n",
      "    raw_data = out_q.get(timeout = 0.3)\n",
      "  File \"/Users/zhouhang/anaconda3/envs/deploy/lib/python3.5/queue.py\", line 172, in get\n",
      "    raise Empty\n",
      "queue.Empty\n",
      "\n"
     ]
    },
    {
     "data": {
      "image/png": "[encoded data removed]",
      "text/plain": [
       "<Figure size 576x576 with 1 Axes>"
      ]
     },
     "metadata": {
      "needs_background": "light"
     },
     "output_type": "display_data"
    }
   ],
   "source": [
    "print(\"plotting the real-time spectrum\")\n",
    "demo_file = \"../data/demo_chunks/real_time_demo.wav\"\n",
    "realTime(demo_file)"
   ]
  },
  {
   "cell_type": "code",
   "execution_count": null,
   "metadata": {},
   "outputs": [],
   "source": []
  }
 ],
 "metadata": {
  "kernelspec": {
   "display_name": "Python 3",
   "language": "python",
   "name": "python3"
  },
  "language_info": {
   "codemirror_mode": {
    "name": "ipython",
    "version": 3
   },
   "file_extension": ".py",
   "mimetype": "text/x-python",
   "name": "python",
   "nbconvert_exporter": "python",
   "pygments_lexer": "ipython3",
   "version": "3.5.6"
  }
 },
 "nbformat": 4,
 "nbformat_minor": 2
}
