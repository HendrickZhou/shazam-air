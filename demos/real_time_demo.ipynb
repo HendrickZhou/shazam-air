{
 "cells": [
  {
   "cell_type": "code",
   "execution_count": 2,
   "metadata": {},
   "outputs": [
    {
     "ename": "ImportError",
     "evalue": "attempted relative import with no known parent package",
     "output_type": "error",
     "traceback": [
      "\u001b[0;31m---------------------------------------------------------------------------\u001b[0m",
      "\u001b[0;31mImportError\u001b[0m                               Traceback (most recent call last)",
      "\u001b[0;32m<ipython-input-2-fc7c0d2d35c9>\u001b[0m in \u001b[0;36m<module>\u001b[0;34m()\u001b[0m\n\u001b[1;32m      7\u001b[0m \u001b[0;32mimport\u001b[0m \u001b[0mwave\u001b[0m\u001b[0;34m\u001b[0m\u001b[0m\n\u001b[1;32m      8\u001b[0m \u001b[0;32mfrom\u001b[0m \u001b[0mscipy\u001b[0m \u001b[0;32mimport\u001b[0m \u001b[0msignal\u001b[0m\u001b[0;34m,\u001b[0m \u001b[0mfftpack\u001b[0m\u001b[0;34m\u001b[0m\u001b[0m\n\u001b[0;32m----> 9\u001b[0;31m \u001b[0;32mfrom\u001b[0m \u001b[0;34m.\u001b[0m\u001b[0maudioIO\u001b[0m \u001b[0;32mimport\u001b[0m \u001b[0mdecodePCM\u001b[0m\u001b[0;34m,\u001b[0m \u001b[0mload\u001b[0m\u001b[0;34m\u001b[0m\u001b[0m\n\u001b[0m\u001b[1;32m     10\u001b[0m \u001b[0;32mfrom\u001b[0m \u001b[0;34m.\u001b[0m\u001b[0mvisual\u001b[0m \u001b[0;32mimport\u001b[0m \u001b[0mfft_bar_data\u001b[0m\u001b[0;34m,\u001b[0m \u001b[0mplotSpect\u001b[0m\u001b[0;34m,\u001b[0m \u001b[0mplotWav\u001b[0m\u001b[0;34m\u001b[0m\u001b[0m\n",
      "\u001b[0;31mImportError\u001b[0m: attempted relative import with no known parent package"
     ]
    }
   ],
   "source": [
    "import threading\n",
    "import math\n",
    "from queue import Queue\n",
    "import numpy as np\n",
    "import matplotlib.pyplot as plt\n",
    "import pyaudio as pa\n",
    "import wave\n",
    "from scipy import signal, fftpack\n",
    "from audioIO import decodePCM, load\n",
    "from visual import fft_bar_data, plotSpect, plotWav\n",
    "\n",
    "%matplotlib notebook"
   ]
  },
  {
   "cell_type": "code",
   "execution_count": null,
   "metadata": {},
   "outputs": [],
   "source": [
    "def consum(out_q, bar_no_idx):\n",
    "    bar_size = [10, 50, 100, 200, 250]\n",
    "    bar_number = bar_size[bar_no_idx]\n",
    "\n",
    "    freq_idx = np.r_[:bar_number]                                    \n",
    "    freq_magn = np.zeros(bar_number)\n",
    "    \n",
    "    fig,ax = plt.subplots(figsize=(8,8))\n",
    "    ax.set_autoscaley_on(False)\n",
    "    ax.set_ylim([0, 20])\n",
    "    while 1:\n",
    "        raw_data = out_q.get(timeout = 0.3)\n",
    "        \n",
    "        data_bar = fft_bar_data(decodePCM(raw_data), bar_number)\n",
    "        data_bar = data_bar\n",
    "        ax.cla()\n",
    "        ax.bar(freq_idx, data_bar, width=0.3)\n",
    "\n",
    "        fig.canvas.draw()\n",
    "        fig.canvas.flush_events()\n",
    "        \n",
    "def produce(in_q, filename):\n",
    "    CHUNK = 1024\n",
    "    wf = wave.open(filename, 'rb')\n",
    "    p = pa.PyAudio()\n",
    "    stream = p.open(format=p.get_format_from_width(wf.getsampwidth()),\n",
    "                    channels=wf.getnchannels(),\n",
    "                    rate=wf.getframerate(),\n",
    "                    output=True) \n",
    "\n",
    "    data = wf.readframes(CHUNK)\n",
    "\n",
    "    while data != b'':\n",
    "        stream.write(data)\n",
    "        data = wf.readframes(CHUNK)\n",
    "        in_q.put(data)\n",
    "        \n",
    "    stream.stop_stream()\n",
    "    stream.close()\n",
    "\n",
    "    p.terminate()\n",
    "    \n",
    "def realTime(filename):\n",
    "    q = Queue()\n",
    "    \n",
    "    t1 = threading.Thread(target=produce, args=(q, filename)) \n",
    "    t2 = threading.Thread(target=consum, args=(q, 0)) \n",
    "        \n",
    "    t1.start()\n",
    "    t2.start()\n",
    "    \n",
    "    t1.join()\n",
    "    t2.join()"
   ]
  },
  {
   "cell_type": "code",
   "execution_count": null,
   "metadata": {},
   "outputs": [],
   "source": [
    "print(\"plotting the real-time spectrum\")\n",
    "demo_file = \"./data/demo_chunks/real_time_demo.wav\"\n",
    "realTime(demo_file)"
   ]
  }
 ],
 "metadata": {
  "kernelspec": {
   "display_name": "Python 3",
   "language": "python",
   "name": "python3"
  },
  "language_info": {
   "codemirror_mode": {
    "name": "ipython",
    "version": 3
   },
   "file_extension": ".py",
   "mimetype": "text/x-python",
   "name": "python",
   "nbconvert_exporter": "python",
   "pygments_lexer": "ipython3",
   "version": "3.5.6"
  }
 },
 "nbformat": 4,
 "nbformat_minor": 2
}
