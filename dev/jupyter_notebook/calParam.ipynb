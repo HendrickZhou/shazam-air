{
 "cells": [
  {
   "cell_type": "code",
   "execution_count": 37,
   "metadata": {},
   "outputs": [],
   "source": [
    "import numpy as np\n",
    "import librosa\n",
    "import random\n",
    "import math"
   ]
  },
  {
   "cell_type": "code",
   "execution_count": 38,
   "metadata": {},
   "outputs": [],
   "source": [
    "from audioFeatureExtract import feature"
   ]
  },
  {
   "cell_type": "code",
   "execution_count": 56,
   "metadata": {},
   "outputs": [
    {
     "name": "stdout",
     "output_type": "stream",
     "text": [
      "Length of input signal is 1321984\n",
      "Sampling frequency is 22050\n"
     ]
    }
   ],
   "source": [
    "wav, f = librosa.load(\"./exp_chunks/chunk_losless_2.wav\", sr = None)\n",
    "print('Length of input signal is %d'% wav.shape[0])\n",
    "print('Sampling frequency is %d'% f)"
   ]
  },
  {
   "cell_type": "code",
   "execution_count": 57,
   "metadata": {},
   "outputs": [
    {
     "name": "stdout",
     "output_type": "stream",
     "text": [
      "Length of input signal is 1321984\n",
      "Sampling frequency is 22050\n"
     ]
    }
   ],
   "source": [
    "wav_, f_ = librosa.load(\"./exp_chunks/chunk_rec_2.wav\", sr = None)\n",
    "print('Length of input signal is %d'% wav_.shape[0])\n",
    "print('Sampling frequency is %d'% f_)"
   ]
  },
  {
   "cell_type": "code",
   "execution_count": 59,
   "metadata": {},
   "outputs": [],
   "source": [
    "wav_len = wav.shape[0]"
   ]
  },
  {
   "cell_type": "code",
   "execution_count": 60,
   "metadata": {},
   "outputs": [],
   "source": [
    "totalSec = wav_len/f\n",
    "winSec = 50 # 2 min\n",
    "startSec = random.randrange(0,math.ceil(totalSec - winSec))\n",
    "endSec = startSec + winSec"
   ]
  },
  {
   "cell_type": "code",
   "execution_count": 63,
   "metadata": {},
   "outputs": [],
   "source": [
    "feature_v_raw, feature_name = feature.stFeatureExtraction(wav[startSec*f:endSec*f], f, win = winSec*f, step = 1)"
   ]
  },
  {
   "cell_type": "code",
   "execution_count": 64,
   "metadata": {},
   "outputs": [],
   "source": [
    "feature_v_rec, feature_name = feature.stFeatureExtraction(wav_[startSec*f:endSec*f], f_, win = winSec*f_, step = 1)"
   ]
  },
  {
   "cell_type": "code",
   "execution_count": 79,
   "metadata": {},
   "outputs": [],
   "source": [
    "raw = feature_v_raw.reshape(1,34)\n",
    "rec = feature_v_rec.reshape(1,34)\n",
    "a = np.concatenate((raw,rec), axis = 0)"
   ]
  },
  {
   "cell_type": "code",
   "execution_count": 92,
   "metadata": {},
   "outputs": [
    {
     "data": {
      "text/plain": [
       "array([[ 1.35496722e-01,  2.05040549e-01],\n",
       "       [ 2.12840732e-02,  3.43168425e-03],\n",
       "       [ 3.29145716e+00,  2.91585736e+00],\n",
       "       [ 2.61316382e-01,  2.77563839e-01],\n",
       "       [ 2.48867073e-01,  2.10534243e-01],\n",
       "       [ 1.48316020e+00,  1.95557437e+00],\n",
       "       [ 0.00000000e+00,  0.00000000e+00],\n",
       "       [ 2.62742857e-01,  2.86624943e-01],\n",
       "       [-1.26015072e+01, -1.62574467e+01],\n",
       "       [ 1.27541204e+00, -1.34387812e+00],\n",
       "       [ 4.84144106e-02, -3.81477960e-01],\n",
       "       [ 2.63909179e-01,  5.74579467e-01],\n",
       "       [ 2.04303699e-01,  2.90446889e-01],\n",
       "       [ 1.83233640e-01,  4.82205957e-01],\n",
       "       [-1.61466087e-01, -6.42783328e-02],\n",
       "       [ 1.54554903e-02,  2.58066006e-01],\n",
       "       [ 1.68017231e-01,  1.84333370e-01],\n",
       "       [ 8.16086493e-02,  2.19926255e-01],\n",
       "       [-1.38604255e-02,  1.14791319e-01],\n",
       "       [-1.66143023e-01, -1.72774288e-01],\n",
       "       [-4.96386654e-02, -1.56387784e-01],\n",
       "       [ 4.83230736e-08,  1.33235225e-07],\n",
       "       [ 1.82916858e-07,  1.19127946e-07],\n",
       "       [ 1.00987104e-07,  1.09510545e-07],\n",
       "       [ 1.23364066e-07,  5.99110226e-08],\n",
       "       [ 1.85649008e-07,  1.09376366e-08],\n",
       "       [ 1.81115407e-07,  4.05772399e-09],\n",
       "       [ 1.06298840e-07,  2.35480480e-09],\n",
       "       [ 1.27024000e-07,  3.81369893e-09],\n",
       "       [ 2.18120239e-07,  4.91319345e-09],\n",
       "       [ 9.58128177e-08,  3.27918626e-09],\n",
       "       [ 9.89230975e-08,  8.30646846e-09],\n",
       "       [ 1.76924106e-07,  2.53132392e-08],\n",
       "       [ 4.84168394e-08,  4.90264175e-08]])"
      ]
     },
     "execution_count": 92,
     "metadata": {},
     "output_type": "execute_result"
    }
   ],
   "source": [
    "a.T\n",
    "# a\n"
   ]
  },
  {
   "cell_type": "code",
   "execution_count": null,
   "metadata": {},
   "outputs": [],
   "source": []
  }
 ],
 "metadata": {
  "kernelspec": {
   "display_name": "Python 3",
   "language": "python",
   "name": "python3"
  },
  "language_info": {
   "codemirror_mode": {
    "name": "ipython",
    "version": 3
   },
   "file_extension": ".py",
   "mimetype": "text/x-python",
   "name": "python",
   "nbconvert_exporter": "python",
   "pygments_lexer": "ipython3",
   "version": "3.5.6"
  }
 },
 "nbformat": 4,
 "nbformat_minor": 2
}
